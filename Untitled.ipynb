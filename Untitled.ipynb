{
 "cells": [
  {
   "cell_type": "markdown",
   "metadata": {},
   "source": [
    "# Question 1"
   ]
  },
  {
   "cell_type": "code",
   "execution_count": 3,
   "metadata": {},
   "outputs": [],
   "source": [
    "import sympy\n",
    "\n",
    "def checkPrimeNumber(num):\n",
    "    if sympy.isprime(num):\n",
    "        return num\n",
    "    else:\n",
    "        return(\"No Prime\")"
   ]
  },
  {
   "cell_type": "code",
   "execution_count": 10,
   "metadata": {},
   "outputs": [
    {
     "data": {
      "text/plain": [
       "3"
      ]
     },
     "execution_count": 10,
     "metadata": {},
     "output_type": "execute_result"
    }
   ],
   "source": [
    "checkPrimeNumber(3)"
   ]
  },
  {
   "cell_type": "code",
   "execution_count": 9,
   "metadata": {},
   "outputs": [
    {
     "name": "stdout",
     "output_type": "stream",
     "text": [
      "Overwriting check_pri.py\n"
     ]
    }
   ],
   "source": [
    "%%writefile check_pri.py\n",
    "import sympy\n",
    "'''\n",
    "Module to check prime Number\n",
    "'''\n",
    "def checkPrimeNumber(num):\n",
    "    '''\n",
    "    Function to Check Prime takes a Input\n",
    "    '''\n",
    "    if sympy.isprime(num):\n",
    "        '''\n",
    "        if statement\n",
    "        '''\n",
    "        return num\n",
    "    else:\n",
    "        return \"No Prime\"\n"
   ]
  },
  {
   "cell_type": "code",
   "execution_count": 7,
   "metadata": {},
   "outputs": [
    {
     "name": "stdout",
     "output_type": "stream",
     "text": [
      "************* Module check_pri\n",
      "check_pri.py:1:0: C0114: Missing module docstring (missing-module-docstring)\n",
      "check_pri.py:4:-1: W0105: String statement has no effect (pointless-string-statement)\n",
      "check_pri.py:5:0: C0103: Function name \"checkPrimeNumber\" doesn't conform to snake_case naming style (invalid-name)\n",
      "check_pri.py:9:4: R1705: Unnecessary \"else\" after \"return\" (no-else-return)\n",
      "check_pri.py:12:-1: W0105: String statement has no effect (pointless-string-statement)\n",
      "\n",
      "------------------------------------------------------------------\n",
      "\n",
      "Your code has been rated at 2.86/10 (previous run: 2.86/10, +0.00)\n",
      "\n",
      "\n",
      "\n"
     ]
    }
   ],
   "source": [
    "!pylint check_pri.py"
   ]
  },
  {
   "cell_type": "code",
   "execution_count": 11,
   "metadata": {},
   "outputs": [
    {
     "name": "stdout",
     "output_type": "stream",
     "text": [
      "Writing check_prime.py\n"
     ]
    }
   ],
   "source": [
    "%%writefile check_prime.py\n",
    "import unittest \n",
    "import check_pri\n",
    "\n",
    "class TestPrime(unittest.TestCase):\n",
    "    def checkprimeNumber(self):\n",
    "        num = 7\n",
    "        result = chPrime.checkPrimeNumber(num)\n",
    "        self.assertEqual(result,num)\n",
    "\n",
    "    def checkNotPrimenumber(self):\n",
    "        num= 8\n",
    "        result = chPrime.checkPrimeNumber(num)\n",
    "        self.assertEqual(result,\"No Prime\")\n",
    "\n",
    "if __name__ == \"__main__\":\n",
    "    unittest.main()"
   ]
  },
  {
   "cell_type": "code",
   "execution_count": 12,
   "metadata": {},
   "outputs": [
    {
     "name": "stderr",
     "output_type": "stream",
     "text": [
      "\n",
      "----------------------------------------------------------------------\n",
      "Ran 0 tests in 0.000s\n",
      "\n",
      "OK\n"
     ]
    }
   ],
   "source": [
    "!python check_prime.py"
   ]
  },
  {
   "cell_type": "markdown",
   "metadata": {},
   "source": [
    "# Question 2"
   ]
  },
  {
   "cell_type": "code",
   "execution_count": 13,
   "metadata": {},
   "outputs": [
    {
     "name": "stdout",
     "output_type": "stream",
     "text": [
      "Armstrong numbers between 1 and 1000 are: 1, 153, 370, 371, 407, "
     ]
    }
   ],
   "source": [
    "def armstrong_number(k): \n",
    "\tj=k \n",
    "\ta=0 \n",
    "\twhile k>0: \n",
    "\t\tb=k%10 \n",
    "\t\ta=a+b**3 \n",
    "\t\tk//=10 \n",
    "\tif j==a: \n",
    "\t\treturn j \n",
    " \n",
    "print(\"Armstrong numbers between 1 and 1000 are: \",end=\"\") \n",
    "for i in range(1,1001): \n",
    "\tx=armstrong_number(i) \n",
    "\tif x!=None: \n",
    "\t\tprint(\"%d\"%x,end=\", \")"
   ]
  },
  {
   "cell_type": "code",
   "execution_count": null,
   "metadata": {},
   "outputs": [],
   "source": []
  }
 ],
 "metadata": {
  "kernelspec": {
   "display_name": "Python 3",
   "language": "python",
   "name": "python3"
  },
  "language_info": {
   "codemirror_mode": {
    "name": "ipython",
    "version": 3
   },
   "file_extension": ".py",
   "mimetype": "text/x-python",
   "name": "python",
   "nbconvert_exporter": "python",
   "pygments_lexer": "ipython3",
   "version": "3.7.6"
  }
 },
 "nbformat": 4,
 "nbformat_minor": 4
}
